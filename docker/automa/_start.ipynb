{
 "cells": [
  {
   "cell_type": "code",
   "execution_count": 1,
   "id": "8d7f6f1f-3c50-4c60-8382-f230bcd89205",
   "metadata": {},
   "outputs": [
    {
     "data": {
      "application/vnd.jupyter.widget-view+json": {
       "model_id": "905f231046a14170813349d7fb3207e7",
       "version_major": 2,
       "version_minor": 0
      },
      "text/plain": [
       "FileUpload(value=(), accept='.csv', description='Upload')"
      ]
     },
     "metadata": {},
     "output_type": "display_data"
    },
    {
     "data": {
      "application/vnd.jupyter.widget-view+json": {
       "model_id": "5a9143f6169d45a784e7e0a244a7d6b1",
       "version_major": 2,
       "version_minor": 0
      },
      "text/plain": [
       "Label(value='Exclude values below:')"
      ]
     },
     "metadata": {},
     "output_type": "display_data"
    },
    {
     "data": {
      "application/vnd.jupyter.widget-view+json": {
       "model_id": "48920bec4bc7437281e40d419e533e95",
       "version_major": 2,
       "version_minor": 0
      },
      "text/plain": [
       "FloatText(value=0.0)"
      ]
     },
     "metadata": {},
     "output_type": "display_data"
    },
    {
     "data": {
      "application/vnd.jupyter.widget-view+json": {
       "model_id": "f6946aee4a5f4083be47e5b4479471f6",
       "version_major": 2,
       "version_minor": 0
      },
      "text/plain": [
       "Button(description='Run', style=ButtonStyle())"
      ]
     },
     "metadata": {},
     "output_type": "display_data"
    },
    {
     "data": {
      "application/vnd.jupyter.widget-view+json": {
       "model_id": "fb15bfe0ee0144f5b00cf83ca09f36c3",
       "version_major": 2,
       "version_minor": 0
      },
      "text/plain": [
       "Output()"
      ]
     },
     "metadata": {},
     "output_type": "display_data"
    },
    {
     "data": {
      "application/vnd.jupyter.widget-view+json": {
       "model_id": "f549d7cc258345218a14d82f4f90230f",
       "version_major": 2,
       "version_minor": 0
      },
      "text/plain": [
       "Output()"
      ]
     },
     "metadata": {},
     "output_type": "display_data"
    },
    {
     "data": {
      "application/vnd.jupyter.widget-view+json": {
       "model_id": "8d36807b52d8414d957124f3542a53e0",
       "version_major": 2,
       "version_minor": 0
      },
      "text/plain": [
       "HTML(value='')"
      ]
     },
     "metadata": {},
     "output_type": "display_data"
    }
   ],
   "source": [
    "import ipywidgets as widgets\n",
    "import pandas as pd\n",
    "import plotly.graph_objects as go\n",
    "from IPython.display import display\n",
    "import io\n",
    "import importlib\n",
    "import base64\n",
    "\n",
    "#Upload button\n",
    "upload_button = widgets.FileUpload(\n",
    "    accept='.csv',  # Acceptera bara .csv-filer\n",
    "    multiple=False  # Tillåt bara en fil att laddas upp\n",
    ")\n",
    "\n",
    "#Run button\n",
    "run_button = widgets.Button(description=\"Run\")\n",
    "\n",
    "#Plot space\n",
    "plot_output = widgets.Output()\n",
    "\n",
    "#Output\n",
    "out = widgets.Output()\n",
    "\n",
    "#Download link\n",
    "download_link = widgets.HTML(\"\")\n",
    "\n",
    "#Text info\n",
    "filter_value_label = widgets.Label('Exclude values below:')\n",
    "\n",
    "#Inut value\n",
    "filter_value = widgets.FloatText(\n",
    "    value=0,  #Default\n",
    ")\n",
    "\n",
    "\n",
    "def process_and_plot_data(button):\n",
    "    global result        \n",
    "    with out:\n",
    "        out.clear_output()\n",
    "        #Read upload data\n",
    "        uploaded_file = upload_button.value[0]\n",
    "        filename = uploaded_file['name']\n",
    "        content = uploaded_file['content']\n",
    "        data = pd.read_csv(io.BytesIO(content), sep=',', index_col=0)\n",
    "        data.index = pd.to_datetime(data.index)\n",
    "        print('First 10 rows of raw data')\n",
    "        print(data.head(10))\n",
    "        print('---')\n",
    "        data.index.names=['time']\n",
    "        data.columns=['value']\n",
    "        #Filter \"bad\" data\n",
    "        data=data.dropna()\n",
    "        data = data[data['value'] > filter_value.value]\n",
    "        \n",
    "\n",
    "        \n",
    "\n",
    "        #Run script\n",
    "        script_module = importlib.import_module('autoMA')\n",
    "        importlib.reload(script_module)\n",
    "        result = script_module.run(data)\n",
    "\n",
    "        # Plot data\n",
    "        with plot_output:\n",
    "            plot_output.clear_output()\n",
    "            fig = go.Figure()\n",
    "            data=data.dropna()\n",
    "            fig.add_trace(go.Scatter(x=data.index, y=data['value'], mode='lines', name='Raw Data'))\n",
    "            #Plot only if result exist\n",
    "            if len(result) != 0:\n",
    "                result=result.dropna()\n",
    "                fig.add_trace(go.Scatter(x=result.index, y=result['value'], mode='lines', name='Result Data'))\n",
    "            fig.show()\n",
    "\n",
    "        #Download link\n",
    "        csv = result.to_csv().encode('utf-8')\n",
    "        b64 = base64.b64encode(csv)\n",
    "        payload = b64.decode()\n",
    "        download_link.value = f'<a download=\"result.csv\" href=\"data:text/csv;base64,{payload}\" target=\"_blank\"><font size=\"3\"><b>Download Result.csv</b></font></a>'\n",
    "\n",
    "#Run button execute\n",
    "run_button.on_click(process_and_plot_data)\n",
    "\n",
    "\n",
    "\n",
    "#Show widgets\n",
    "display(upload_button, filter_value_label, filter_value, run_button, out, plot_output, download_link)\n"
   ]
  },
  {
   "cell_type": "code",
   "execution_count": null,
   "id": "a6a084ac-8985-413a-b85a-2f0cc77ceb7a",
   "metadata": {},
   "outputs": [],
   "source": []
  }
 ],
 "metadata": {
  "kernelspec": {
   "display_name": "Python 3 (ipykernel)",
   "language": "python",
   "name": "python3"
  },
  "language_info": {
   "codemirror_mode": {
    "name": "ipython",
    "version": 3
   },
   "file_extension": ".py",
   "mimetype": "text/x-python",
   "name": "python",
   "nbconvert_exporter": "python",
   "pygments_lexer": "ipython3",
   "version": "3.10.11"
  }
 },
 "nbformat": 4,
 "nbformat_minor": 5
}
