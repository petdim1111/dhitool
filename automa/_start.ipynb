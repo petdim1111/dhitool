{
 "cells": [
  {
   "cell_type": "code",
   "execution_count": 8,
   "id": "8d7f6f1f-3c50-4c60-8382-f230bcd89205",
   "metadata": {},
   "outputs": [
    {
     "data": {
      "application/vnd.jupyter.widget-view+json": {
       "model_id": "5a9c584d055044d08b098e31f206d6ca",
       "version_major": 2,
       "version_minor": 0
      },
      "text/plain": [
       "FileUpload(value=(), accept='.csv', description='Upload')"
      ]
     },
     "metadata": {},
     "output_type": "display_data"
    },
    {
     "data": {
      "application/vnd.jupyter.widget-view+json": {
       "model_id": "fa5fae8a4fb7404ba822d2ad3a75e7ea",
       "version_major": 2,
       "version_minor": 0
      },
      "text/plain": [
       "Button(description='Run', style=ButtonStyle())"
      ]
     },
     "metadata": {},
     "output_type": "display_data"
    },
    {
     "data": {
      "application/vnd.jupyter.widget-view+json": {
       "model_id": "e4c8b742912b4b71923bcc7d46fca966",
       "version_major": 2,
       "version_minor": 0
      },
      "text/plain": [
       "Output()"
      ]
     },
     "metadata": {},
     "output_type": "display_data"
    },
    {
     "data": {
      "application/vnd.jupyter.widget-view+json": {
       "model_id": "fd07dd6ec6084c05b6c900a71928038c",
       "version_major": 2,
       "version_minor": 0
      },
      "text/plain": [
       "Output()"
      ]
     },
     "metadata": {},
     "output_type": "display_data"
    },
    {
     "data": {
      "application/vnd.jupyter.widget-view+json": {
       "model_id": "63b827b624094dc8a75b98e22b64fdcb",
       "version_major": 2,
       "version_minor": 0
      },
      "text/plain": [
       "HTML(value='')"
      ]
     },
     "metadata": {},
     "output_type": "display_data"
    }
   ],
   "source": [
    "import ipywidgets as widgets\n",
    "import pandas as pd\n",
    "import plotly.graph_objects as go\n",
    "from IPython.display import display\n",
    "import io\n",
    "import importlib\n",
    "import base64\n",
    "\n",
    "# Skapa en uppladdningsknapp\n",
    "upload_button = widgets.FileUpload(\n",
    "    accept='.csv',  # Acceptera bara .csv-filer\n",
    "    multiple=False  # Tillåt bara en fil att laddas upp\n",
    ")\n",
    "\n",
    "# Skapa en knapp för att köra det valda skriptet\n",
    "run_button = widgets.Button(description=\"Run\")\n",
    "\n",
    "# Skapa en plats för att visa plotten\n",
    "plot_output = widgets.Output()\n",
    "\n",
    "# Skapa en Output-widget för att fånga utdata\n",
    "out = widgets.Output()\n",
    "\n",
    "# Skapa en HTML-widget för nedladdningslänken\n",
    "download_link = widgets.HTML(\"\")\n",
    "\n",
    "\n",
    "\n",
    "\n",
    "\n",
    "def process_and_plot_data(button):\n",
    "    global result\n",
    "        \n",
    "    with out:\n",
    "        out.clear_output()\n",
    "        # Läs in data från den uppladdade filen\n",
    "        uploaded_file = upload_button.value[0]\n",
    "        filename = uploaded_file['name']\n",
    "        content = uploaded_file['content']\n",
    "        data = pd.read_csv(io.BytesIO(content), sep=',', index_col=0)\n",
    "        data.index = pd.to_datetime(data.index)\n",
    "        data.index.names=['time']\n",
    "        data.columns=['value']\n",
    "\n",
    "        # Importera och kör det valda skriptet\n",
    "        script_module = importlib.import_module('autoMA')\n",
    "        importlib.reload(script_module)  # Tvinga omimport av modulen\n",
    "        result = script_module.run(data)  # Antag att varje skript har en 'run'-funktion som tar en DataFrame som argument\n",
    "\n",
    "        # Plotta data\n",
    "        with plot_output:\n",
    "            plot_output.clear_output()\n",
    "            fig = go.Figure()\n",
    "            fig.add_trace(go.Scatter(x=data.index, y=data['value'], mode='lines', name='Raw Data'))\n",
    "            if len(result) != 0:\n",
    "                fig.add_trace(go.Scatter(x=result.index, y=result['value'], mode='lines', name='Result Data'))\n",
    "            fig.show()\n",
    "\n",
    "        # Skapa nedladdningslänken\n",
    "        csv = result.to_csv().encode('utf-8')\n",
    "        b64 = base64.b64encode(csv)\n",
    "        payload = b64.decode()\n",
    "        download_link.value = f'<a download=\"result.csv\" href=\"data:text/csv;base64,{payload}\" target=\"_blank\"><font size=\"3\"><b>Download Result.csv</b></font></a>'\n",
    "\n",
    "# Lägg till en händelsehanterare för att köra process_and_plot_data när en fil laddas upp\n",
    "run_button.on_click(process_and_plot_data)\n",
    "\n",
    "\n",
    "\n",
    "# Visa alla widgets\n",
    "display(upload_button, run_button, out, plot_output, download_link)\n"
   ]
  },
  {
   "cell_type": "code",
   "execution_count": null,
   "id": "115ce109-c793-4263-9a64-0f30989c65e8",
   "metadata": {},
   "outputs": [],
   "source": []
  }
 ],
 "metadata": {
  "kernelspec": {
   "display_name": "Python 3 (ipykernel)",
   "language": "python",
   "name": "python3"
  },
  "language_info": {
   "codemirror_mode": {
    "name": "ipython",
    "version": 3
   },
   "file_extension": ".py",
   "mimetype": "text/x-python",
   "name": "python",
   "nbconvert_exporter": "python",
   "pygments_lexer": "ipython3",
   "version": "3.10.11"
  }
 },
 "nbformat": 4,
 "nbformat_minor": 5
}
